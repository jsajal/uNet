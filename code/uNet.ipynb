{
 "cells": [
  {
   "cell_type": "code",
   "execution_count": 13,
   "metadata": {},
   "outputs": [
    {
     "name": "stdout",
     "output_type": "stream",
     "text": [
      "(30, 512, 512, 1)\n",
      "(30, 512, 512, 1)\n"
     ]
    }
   ],
   "source": [
    "import numpy as np\n",
    "import pandas as pd\n",
    "import tensorflow as tf\n",
    "import keras.preprocessing.image\n",
    "import sklearn.preprocessing\n",
    "import sklearn.model_selection\n",
    "import sklearn.metrics\n",
    "import sklearn.linear_model\n",
    "import sklearn.naive_bayes\n",
    "import sklearn.tree\n",
    "import sklearn.ensemble\n",
    "import skimage.io as io\n",
    "import skimage.transform as trans\n",
    "import os;\n",
    "import datetime  \n",
    "import cv2 \n",
    "import seaborn as sns\n",
    "import matplotlib.pyplot as plt\n",
    "import matplotlib.cm as cm  \n",
    "import matplotlib.gridspec as gridspec\n",
    "%matplotlib inline\n",
    "\n",
    "def normalizeImage(img):\n",
    "    if np.max(img) > 1:\n",
    "        img = img/255\n",
    "    return img\n",
    "\n",
    "def normalizeMask(mask):\n",
    "    if np.max(mask) > 1:\n",
    "        mask = mask/255\n",
    "    mask[mask > 0.5] = 1\n",
    "    mask[mask <= 0.5] = 0\n",
    "    return mask\n",
    "    \n",
    "## load and check data\n",
    "image_train_arr = []\n",
    "mask_train_arr = []\n",
    "\n",
    "#load avaialble training data\n",
    "for i in range(0,30):\n",
    "    img = io.imread(\"../data/membrane/train/image/{}.png\".format(i))\n",
    "    img = normalizeImage(img)\n",
    "    mask = io.imread(\"../data/membrane/train/mask/{}.png\".format(i))\n",
    "    mask = normalizeMask(mask)\n",
    "    image_train_arr.append(img)\n",
    "    mask_train_arr.append(mask)\n",
    "\n",
    "xtrainImage = np.array(image_train_arr)\n",
    "xtrainImage = xtrainImage.reshape(-1, 512, 512, 1)\n",
    "xtrainMask = np.array(mask_train_arr)\n",
    "xtrainMask = xtrainMask.reshape(-1, 512, 512, 1)\n",
    "print(xtrainImage.shape)\n",
    "print(xtrainMask.shape)\n",
    "\n",
    "#io.imshow(xtrainImage[1].reshape(512, 512))\n",
    "#io.imshow(xtrainMask[1].reshape(512, 512))"
   ]
  },
  {
   "cell_type": "raw",
   "metadata": {},
   "source": []
  }
 ],
 "metadata": {
  "kernelspec": {
   "display_name": "Python 3",
   "language": "python",
   "name": "python3"
  },
  "language_info": {
   "codemirror_mode": {
    "name": "ipython",
    "version": 3
   },
   "file_extension": ".py",
   "mimetype": "text/x-python",
   "name": "python",
   "nbconvert_exporter": "python",
   "pygments_lexer": "ipython3",
   "version": "3.6.8"
  }
 },
 "nbformat": 4,
 "nbformat_minor": 2
}
